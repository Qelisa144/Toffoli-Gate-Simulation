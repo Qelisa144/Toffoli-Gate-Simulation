{
 "cells": [
  {
   "cell_type": "markdown",
   "id": "e7b4cf8b",
   "metadata": {},
   "source": [
    "# Quantum Circuit Equivalence - Toffoli - U3 Gates Parameters\n",
    "**Name:** Ana Elisa Franco Flores\\\n",
    "**Date:** October 22nd, 2025\\\n",
    "**Description:** This project demonstrates a fundamental concept in quantum computing: **circuit equivalence**. It finds the parameters for two universal U3 gates that, when combined with a specific arrangement of CNOT gates, perfectly simulate the behavior of a three-qubit Toffoli (CCX) gate.\n",
    "\n",
    "Finding the 6 parameters (θ₁, φ₁, λ₁, θ₂, φ₂, λ₂) for the U3 gates to simulate a Toffoli one."
   ]
  },
  {
   "cell_type": "code",
   "execution_count": null,
   "id": "c6e643ac",
   "metadata": {},
   "outputs": [],
   "source": [
    "# ------------------------------------------------------------\n",
    "# Required libraries\n",
    "# ------------------------------------------------------------\n",
    "\n",
    "!pip install numpy qiskit matplotlib scipy qiskit[visualization]\n",
    "\n",
    "import numpy as np\n",
    "import qiskit\n",
    "from qiskit import QuantumCircuit, transpiler\n",
    "from qiskit.visualization import circuit_drawer, plot_histogram\n",
    "from qiskit.quantum_info import Operator\n",
    "from qiskit.circuit import Parameter, parametervector\n",
    "from scipy.optimize import minimize\n",
    "from math import pi, cos, sin, exp\n",
    "import matplotlib.pyplot as plt\n",
    "import matplotlib as mpl \n",
    "import random\n",
    "\n",
    "%matplotlib inline\n",
    "plt.style.use('default')\n",
    "\n",
    "print (\"Libraries imported successfully.\")"
   ]
  },
  {
   "cell_type": "markdown",
   "id": "1fbdb78e",
   "metadata": {},
   "source": [
    "## Defining the Toffoli Gate \n",
    "\n",
    "We need to define the Toffoli (CCX) gate on 3 qubits as shown on the circuit below, obtaining its circuit representation and its matrix form (unitary operator)."
   ]
  },
  {
   "cell_type": "code",
   "execution_count": null,
   "id": "1b438703",
   "metadata": {},
   "outputs": [],
   "source": [
    "# ------------------------------------------------------------\n",
    "# Defining the Toffoli (CCX) gate and getting its matrix\n",
    "# ------------------------------------------------------------\n",
    "qc_toffoli = QuantumCircuit(3)\n",
    "qc_toffoli.ccx(0, 1, 2)\n",
    "\n",
    "# Matrix representation\n",
    "U_toffoli = Operator(qc_toffoli).data\n",
    "\n",
    "print(\"The Toffoli gate:\")\n",
    "print(qc_toffoli.draw(output='text'))\n",
    "\n",
    "print(\"\\nToffoli gate matrix:\")\n",
    "print(U_toffoli)"
   ]
  },
  {
   "cell_type": "markdown",
   "id": "27f198c4",
   "metadata": {},
   "source": [
    "## Build the Parameterized Circuit\n",
    "\n",
    "Now, we construct a **parameterized quantum circuit** that uses two U3 gates with parameters θ, φ, λ, and a series of CNOT, T and T' gates.  \n",
    "\n",
    "This circuit will later be optimized so that it behaves like the Toffoli gate."
   ]
  },
  {
   "cell_type": "code",
   "execution_count": null,
   "id": "bc3069dd",
   "metadata": {},
   "outputs": [],
   "source": [
    "# ------------------------------------------------------------\n",
    "# Defining parameters for U3(1) and U3(2)\n",
    "# ------------------------------------------------------------\n",
    "theta1, phi1, lam1 = Parameter('θ₁'), Parameter('φ₁'), Parameter('λ₁')\n",
    "theta2, phi2, lam2 = Parameter('θ₂'), Parameter('φ₂'), Parameter('λ₂')\n",
    "\n",
    "qc_param = QuantumCircuit(3)\n",
    "\n",
    "#------------------------------------------------------------\n",
    "# Building circuit\n",
    "# ------------------------------------------------------------\n",
    "\n",
    "qc_param.t(0)\n",
    "qc_param.u(theta1, phi1, lam1, 2)\n",
    "qc_param.cx(0,1)\n",
    "qc_param.tdg(1)\n",
    "qc_param.cx(0,1)\n",
    "qc_param.t(1)\n",
    "qc_param.cx(1,2)\n",
    "qc_param.tdg(2)\n",
    "qc_param.cx(0,2)\n",
    "qc_param.t(2)\n",
    "qc_param.cx(1,2)\n",
    "qc_param.u(theta2, phi2, lam2, 2)\n",
    "qc_param.cx(0,2)\n",
    "qc_param.t(2)\n",
    "qc_param.h(2)\n",
    "\n",
    "print(\" Parameterized Circuit:\")\n",
    "print(qc_param.draw(output='text'))"
   ]
  },
  {
   "cell_type": "markdown",
   "id": "b7f93c7e",
   "metadata": {},
   "source": [
    "## Defining the Cost Function\n",
    "\n",
    "Function that measures how different our parameterized circuit is from the true Toffoli gate.  \n",
    "The cost will be minimized by adjusting the parameters."
   ]
  },
  {
   "cell_type": "code",
   "execution_count": null,
   "id": "0efe69e4",
   "metadata": {},
   "outputs": [],
   "source": [
    "# ------------------------------------------------------------\n",
    "# Cost function: difference between current circuit and Toffoli\n",
    "# ------------------------------------------------------------\n",
    "def cost(params):\n",
    "    \"\"\"Compute the distance between the parameterized circuit\n",
    "    and the Toffoli gate (Frobenius norm).\"\"\"\n",
    "    \n",
    "    param_dict = {\n",
    "        theta1: params[0], phi1: params[1], lam1: params[2],\n",
    "        theta2: params[3], phi2: params[4], lam2: params[5]\n",
    "    }\n",
    "\n",
    "    qc_bound = qc_param.assign_parameters(param_dict)\n",
    "    U_current = Operator(qc_bound).data\n",
    "\n",
    "    diff = U_current - U_toffoli\n",
    "    return np.linalg.norm(diff)"
   ]
  },
  {
   "cell_type": "markdown",
   "id": "77650ef5",
   "metadata": {},
   "source": [
    "## Run the Optimization\n",
    "\n",
    "We start with random initial values for all six parameters and use **Powell's optimization method** to minimize the cost function."
   ]
  },
  {
   "cell_type": "code",
   "execution_count": null,
   "id": "0ee14b04",
   "metadata": {},
   "outputs": [],
   "source": [
    "# ------------------------------------------------------------\n",
    "# Optimization routine\n",
    "# ------------------------------------------------------------\n",
    "initial_params = np.random.rand(6) * 2 * np.pi\n",
    "\n",
    "print(f\"Initial parameters: {initial_params}\")\n",
    "print(f\"Initial cost: {cost(initial_params)}\")\n",
    "\n",
    "# Running optimization\n",
    "result = minimize(cost, initial_params, method='powell', tol=1e-6)\n",
    "\n",
    "optimized_params = result.x\n",
    "final_cost = result.fun\n",
    "\n",
    "print(\"Optimization complete\")\n",
    "print(f\"Optimized parameters: {optimized_params}\")\n",
    "print(f\"Final cost: {final_cost}\")\n",
    "\n",
    "# Rounding parameters for readability\n",
    "rounded_params = np.round(optimized_params / pi, 4) * pi\n",
    "print(f\"Rounded parameters (in multiples of π): {rounded_params/pi} * π\")"
   ]
  },
  {
   "cell_type": "markdown",
   "id": "1b8cecc3",
   "metadata": {},
   "source": [
    "## Building and Compare Final Circuits\n",
    "\n",
    "Finally, we substitute the optimized parameters back into the circuit, calculate its matrix, and verify that it's equivalent to the Toffoli gate."
   ]
  },
  {
   "cell_type": "code",
   "execution_count": null,
   "id": "6cce2362",
   "metadata": {},
   "outputs": [],
   "source": [
    "# ------------------------------------------------------------\n",
    "# Constructing and verify the final circuit\n",
    "# ------------------------------------------------------------\n",
    "final_param_dict = {\n",
    "    theta1: optimized_params[0], phi1: optimized_params[1], lam1: optimized_params[2],\n",
    "    theta2: optimized_params[3], phi2: optimized_params[4], lam2: optimized_params[5]\n",
    "}\n",
    "\n",
    "qc_final = qc_param.assign_parameters(final_param_dict)\n",
    "U_final = Operator(qc_final).data\n",
    "\n",
    "print(\"Final circuit matrix:\")\n",
    "print(np.round(U_final, 4))\n",
    "\n",
    "print(\"Toffoli matrix:\")\n",
    "print(np.round(U_toffoli, 4))\n",
    "\n",
    "# Verify equivalence\n",
    "equal_matrices = np.allclose(U_final, U_toffoli, atol=1e-5)\n",
    "print(f\"Equivalent matrices? {equal_matrices}\")"
   ]
  },
  {
   "cell_type": "markdown",
   "id": "5747bbfa",
   "metadata": {},
   "source": [
    "## Conclusion\n",
    "\n",
    "Successfully optimized the parameters of a **U3-based circuit** to reproduce the **Toffoli gate**.\n",
    "\n",
    "This demonstrates the concept of **circuit equivalence**: that a universal gate set (like U3, T, T' and CNOT) can represent any unitary operation.\n",
    "\n",
    "**Key takeaways:**\n",
    "- The optimization converges to parameters close to multiples of π.\n",
    "- The final matrix matches the Toffoli gate.\n",
    "- This approach can be extended to other multi-qubit gates.\n",
    "\n",
    "**Final Conclusion**: This project successfully establishes the foundations of quantum gate tomography, demonstrating both theoretically and computationally the universality of specific quantum gate sets. \n",
    "\n",
    "**The precise parameter values obtained from optimization are:**\n",
    "\n",
    "**First U3 Gate:**\n",
    "- θ₁ = 0.5π ≈ 1.5708 radians\n",
    "- φ₁ = 0π ≈ 0.0000 radians  \n",
    "- λ₁ = 1π ≈ 3.1416 radians\n",
    "\n",
    "**Second U3 Gate:**\n",
    "- θ₂ = 0π ≈ 0.0000 radians\n",
    "- φ₂ = 0.832π ≈ 2.6138 radians\n",
    "- λ₂ = 0.918π ≈ 2.8840 radians\n",
    "\n",
    "These represent the exact mathematical solution for Toffoli gate decomposition using elementary quantum operations with a final cost of **7.83 × 10⁻¹²** (practically zero)."
   ]
  }
 ],
 "metadata": {
  "kernelspec": {
   "display_name": ".venv",
   "language": "python",
   "name": "python3"
  },
  "language_info": {
   "codemirror_mode": {
    "name": "ipython",
    "version": 3
   },
   "file_extension": ".py",
   "mimetype": "text/x-python",
   "name": "python",
   "nbconvert_exporter": "python",
   "pygments_lexer": "ipython3",
   "version": "3.13.7"
  }
 },
 "nbformat": 4,
 "nbformat_minor": 5
}
