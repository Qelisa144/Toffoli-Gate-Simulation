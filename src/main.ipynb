{
 "cells": [
  {
   "cell_type": "markdown",
   "id": "1f3fd78f",
   "metadata": {},
   "source": [
    "# Quantum Circuit Equivalence - Toffoli - U3 Gates Parameters\n",
    "**Name:** Ana Elisa Franco Flores\\\n",
    "**Date:** October 22nd, 2025\\\n",
    "**Description:** This project demonstrates a fundamental concept in quantum computing: **circuit equivalence**. It finds the parameters for two universal U3 gates that, when combined with a specific arrangement of CNOT gates, perfectly simulate the behavior of a three-qubit Toffoli (CCX) gate.\n",
    "\n",
    "Finding the 6 parameters (θ₁, φ₁, λ₁, θ₂, φ₂, λ₂) for the U3 gates to simulate a Toffoli one."
   ]
  },
  {
   "cell_type": "code",
   "execution_count": 7,
   "id": "9ae85d4b",
   "metadata": {},
   "outputs": [
    {
     "name": "stdout",
     "output_type": "stream",
     "text": [
      "Requirement already satisfied: numpy in c:\\users\\aefra\\onedrive\\escritorio\\5. programing and quantum\\programing\\python\\task 1 - quantum gates\\.venv\\lib\\site-packages (2.3.4)\n",
      "Requirement already satisfied: qiskit in c:\\users\\aefra\\onedrive\\escritorio\\5. programing and quantum\\programing\\python\\task 1 - quantum gates\\.venv\\lib\\site-packages (2.2.2)\n",
      "Requirement already satisfied: matplotlib in c:\\users\\aefra\\onedrive\\escritorio\\5. programing and quantum\\programing\\python\\task 1 - quantum gates\\.venv\\lib\\site-packages (3.10.7)\n",
      "Requirement already satisfied: scipy in c:\\users\\aefra\\onedrive\\escritorio\\5. programing and quantum\\programing\\python\\task 1 - quantum gates\\.venv\\lib\\site-packages (1.16.2)\n",
      "Requirement already satisfied: rustworkx>=0.15.0 in c:\\users\\aefra\\onedrive\\escritorio\\5. programing and quantum\\programing\\python\\task 1 - quantum gates\\.venv\\lib\\site-packages (from qiskit) (0.17.1)\n",
      "Requirement already satisfied: dill>=0.3 in c:\\users\\aefra\\onedrive\\escritorio\\5. programing and quantum\\programing\\python\\task 1 - quantum gates\\.venv\\lib\\site-packages (from qiskit) (0.4.0)\n",
      "Requirement already satisfied: stevedore>=3.0.0 in c:\\users\\aefra\\onedrive\\escritorio\\5. programing and quantum\\programing\\python\\task 1 - quantum gates\\.venv\\lib\\site-packages (from qiskit) (5.5.0)\n",
      "Requirement already satisfied: typing-extensions in c:\\users\\aefra\\onedrive\\escritorio\\5. programing and quantum\\programing\\python\\task 1 - quantum gates\\.venv\\lib\\site-packages (from qiskit) (4.15.0)\n",
      "Requirement already satisfied: contourpy>=1.0.1 in c:\\users\\aefra\\onedrive\\escritorio\\5. programing and quantum\\programing\\python\\task 1 - quantum gates\\.venv\\lib\\site-packages (from matplotlib) (1.3.3)\n",
      "Requirement already satisfied: cycler>=0.10 in c:\\users\\aefra\\onedrive\\escritorio\\5. programing and quantum\\programing\\python\\task 1 - quantum gates\\.venv\\lib\\site-packages (from matplotlib) (0.12.1)\n",
      "Requirement already satisfied: fonttools>=4.22.0 in c:\\users\\aefra\\onedrive\\escritorio\\5. programing and quantum\\programing\\python\\task 1 - quantum gates\\.venv\\lib\\site-packages (from matplotlib) (4.60.1)\n",
      "Requirement already satisfied: kiwisolver>=1.3.1 in c:\\users\\aefra\\onedrive\\escritorio\\5. programing and quantum\\programing\\python\\task 1 - quantum gates\\.venv\\lib\\site-packages (from matplotlib) (1.4.9)\n",
      "Requirement already satisfied: packaging>=20.0 in c:\\users\\aefra\\onedrive\\escritorio\\5. programing and quantum\\programing\\python\\task 1 - quantum gates\\.venv\\lib\\site-packages (from matplotlib) (25.0)\n",
      "Requirement already satisfied: pillow>=8 in c:\\users\\aefra\\onedrive\\escritorio\\5. programing and quantum\\programing\\python\\task 1 - quantum gates\\.venv\\lib\\site-packages (from matplotlib) (12.0.0)\n",
      "Requirement already satisfied: pyparsing>=3 in c:\\users\\aefra\\onedrive\\escritorio\\5. programing and quantum\\programing\\python\\task 1 - quantum gates\\.venv\\lib\\site-packages (from matplotlib) (3.2.5)\n",
      "Requirement already satisfied: python-dateutil>=2.7 in c:\\users\\aefra\\onedrive\\escritorio\\5. programing and quantum\\programing\\python\\task 1 - quantum gates\\.venv\\lib\\site-packages (from matplotlib) (2.9.0.post0)\n",
      "Requirement already satisfied: pydot in c:\\users\\aefra\\onedrive\\escritorio\\5. programing and quantum\\programing\\python\\task 1 - quantum gates\\.venv\\lib\\site-packages (from qiskit[visualization]) (4.0.1)\n",
      "Requirement already satisfied: pylatexenc>=1.4 in c:\\users\\aefra\\onedrive\\escritorio\\5. programing and quantum\\programing\\python\\task 1 - quantum gates\\.venv\\lib\\site-packages (from qiskit[visualization]) (2.10)\n",
      "Requirement already satisfied: seaborn>=0.9.0 in c:\\users\\aefra\\onedrive\\escritorio\\5. programing and quantum\\programing\\python\\task 1 - quantum gates\\.venv\\lib\\site-packages (from qiskit[visualization]) (0.13.2)\n",
      "Requirement already satisfied: sympy>=1.3 in c:\\users\\aefra\\onedrive\\escritorio\\5. programing and quantum\\programing\\python\\task 1 - quantum gates\\.venv\\lib\\site-packages (from qiskit[visualization]) (1.14.0)\n",
      "Requirement already satisfied: six>=1.5 in c:\\users\\aefra\\onedrive\\escritorio\\5. programing and quantum\\programing\\python\\task 1 - quantum gates\\.venv\\lib\\site-packages (from python-dateutil>=2.7->matplotlib) (1.17.0)\n",
      "Requirement already satisfied: pandas>=1.2 in c:\\users\\aefra\\onedrive\\escritorio\\5. programing and quantum\\programing\\python\\task 1 - quantum gates\\.venv\\lib\\site-packages (from seaborn>=0.9.0->qiskit[visualization]) (2.3.3)\n",
      "Requirement already satisfied: pytz>=2020.1 in c:\\users\\aefra\\onedrive\\escritorio\\5. programing and quantum\\programing\\python\\task 1 - quantum gates\\.venv\\lib\\site-packages (from pandas>=1.2->seaborn>=0.9.0->qiskit[visualization]) (2025.2)\n",
      "Requirement already satisfied: tzdata>=2022.7 in c:\\users\\aefra\\onedrive\\escritorio\\5. programing and quantum\\programing\\python\\task 1 - quantum gates\\.venv\\lib\\site-packages (from pandas>=1.2->seaborn>=0.9.0->qiskit[visualization]) (2025.2)\n",
      "Requirement already satisfied: mpmath<1.4,>=1.1.0 in c:\\users\\aefra\\onedrive\\escritorio\\5. programing and quantum\\programing\\python\\task 1 - quantum gates\\.venv\\lib\\site-packages (from sympy>=1.3->qiskit[visualization]) (1.3.0)\n",
      "Libraries imported successfully.\n",
      "Libraries imported successfully.\n"
     ]
    }
   ],
   "source": [
    "# ------------------------------------------------------------\n",
    "# Required libraries\n",
    "# ------------------------------------------------------------\n",
    "\n",
    "!pip install numpy qiskit matplotlib scipy qiskit[visualization]\n",
    "\n",
    "import numpy as np\n",
    "import qiskit\n",
    "from qiskit import QuantumCircuit, transpiler\n",
    "from qiskit.visualization import circuit_drawer, plot_histogram\n",
    "from qiskit.quantum_info import Operator\n",
    "from qiskit.circuit import Parameter, parametervector\n",
    "from scipy.optimize import minimize\n",
    "from math import pi, cos, sin, exp\n",
    "import matplotlib.pyplot as plt\n",
    "import matplotlib as mpl \n",
    "import random\n",
    "\n",
    "%matplotlib inline\n",
    "plt.style.use('default')\n",
    "\n",
    "print (\"Libraries imported successfully.\")"
   ]
  },
  {
   "cell_type": "markdown",
   "id": "573ac230",
   "metadata": {},
   "source": [
    "## Defining the Toffoli Gate \n",
    "\n",
    "We need to define the Toffoli (CCX) gate on 3 qubits as shown on the circuit below, obtaining its circuit representation and its matrix form (unitary operator)."
   ]
  },
  {
   "cell_type": "code",
   "execution_count": 8,
   "id": "54420c65",
   "metadata": {},
   "outputs": [
    {
     "name": "stdout",
     "output_type": "stream",
     "text": [
      "The Toffoli gate:\n",
      "          \n",
      "q_0: ──■──\n",
      "       │  \n",
      "q_1: ──■──\n",
      "     ┌─┴─┐\n",
      "q_2: ┤ X ├\n",
      "     └───┘\n",
      "\n",
      "Toffoli gate matrix:\n",
      "[[1.+0.j 0.+0.j 0.+0.j 0.+0.j 0.+0.j 0.+0.j 0.+0.j 0.+0.j]\n",
      " [0.+0.j 1.+0.j 0.+0.j 0.+0.j 0.+0.j 0.+0.j 0.+0.j 0.+0.j]\n",
      " [0.+0.j 0.+0.j 1.+0.j 0.+0.j 0.+0.j 0.+0.j 0.+0.j 0.+0.j]\n",
      " [0.+0.j 0.+0.j 0.+0.j 0.+0.j 0.+0.j 0.+0.j 0.+0.j 1.+0.j]\n",
      " [0.+0.j 0.+0.j 0.+0.j 0.+0.j 1.+0.j 0.+0.j 0.+0.j 0.+0.j]\n",
      " [0.+0.j 0.+0.j 0.+0.j 0.+0.j 0.+0.j 1.+0.j 0.+0.j 0.+0.j]\n",
      " [0.+0.j 0.+0.j 0.+0.j 0.+0.j 0.+0.j 0.+0.j 1.+0.j 0.+0.j]\n",
      " [0.+0.j 0.+0.j 0.+0.j 1.+0.j 0.+0.j 0.+0.j 0.+0.j 0.+0.j]]\n"
     ]
    }
   ],
   "source": [
    "# ------------------------------------------------------------\n",
    "# Defining the Toffoli (CCX) gate and getting its matrix\n",
    "# ------------------------------------------------------------\n",
    "qc_toffoli = QuantumCircuit(3)\n",
    "qc_toffoli.ccx(0, 1, 2)\n",
    "\n",
    "# Matrix representation\n",
    "U_toffoli = Operator(qc_toffoli).data\n",
    "\n",
    "print(\"The Toffoli gate:\")\n",
    "print(qc_toffoli.draw(output='text'))\n",
    "\n",
    "print(\"\\nToffoli gate matrix:\")\n",
    "print(U_toffoli)"
   ]
  },
  {
   "cell_type": "markdown",
   "id": "dfee0bbd",
   "metadata": {},
   "source": [
    "## Build the Parameterized Circuit\n",
    "\n",
    "Now, we construct a **parameterized quantum circuit** that uses two U3 gates with parameters θ, φ, λ, and a series of CNOT, T and T' gates.  \n",
    "\n",
    "This circuit will later be optimized so that it behaves like the Toffoli gate."
   ]
  },
  {
   "cell_type": "code",
   "execution_count": 9,
   "id": "861d8c8f",
   "metadata": {},
   "outputs": [
    {
     "name": "stdout",
     "output_type": "stream",
     "text": [
      " Parameterized Circuit:\n",
      "          ┌───┐                                                      »\n",
      "q_0: ─────┤ T ├───────■───────────■─────────────────────■────────────»\n",
      "          └───┘     ┌─┴─┐┌─────┐┌─┴─┐┌───┐              │            »\n",
      "q_1: ───────────────┤ X ├┤ Tdg ├┤ X ├┤ T ├──■───────────┼─────────■──»\n",
      "     ┌─────────────┐└───┘└─────┘└───┘└───┘┌─┴─┐┌─────┐┌─┴─┐┌───┐┌─┴─┐»\n",
      "q_2: ┤ U(θ₁,φ₁,λ₁) ├──────────────────────┤ X ├┤ Tdg ├┤ X ├┤ T ├┤ X ├»\n",
      "     └─────────────┘                      └───┘└─────┘└───┘└───┘└───┘»\n",
      "«                                   \n",
      "«q_0: ─────────────────■────────────\n",
      "«                      │            \n",
      "«q_1: ─────────────────┼────────────\n",
      "«     ┌─────────────┐┌─┴─┐┌───┐┌───┐\n",
      "«q_2: ┤ U(θ₂,φ₂,λ₂) ├┤ X ├┤ T ├┤ H ├\n",
      "«     └─────────────┘└───┘└───┘└───┘\n"
     ]
    }
   ],
   "source": [
    "# ------------------------------------------------------------\n",
    "# Defining parameters for U3(1) and U3(2)\n",
    "# ------------------------------------------------------------\n",
    "theta1, phi1, lam1 = Parameter('θ₁'), Parameter('φ₁'), Parameter('λ₁')\n",
    "theta2, phi2, lam2 = Parameter('θ₂'), Parameter('φ₂'), Parameter('λ₂')\n",
    "\n",
    "qc_param = QuantumCircuit(3)\n",
    "\n",
    "#------------------------------------------------------------\n",
    "# Building circuit\n",
    "# ------------------------------------------------------------\n",
    "\n",
    "qc_param.t(0)\n",
    "qc_param.u(theta1, phi1, lam1, 2)\n",
    "qc_param.cx(0,1)\n",
    "qc_param.tdg(1)\n",
    "qc_param.cx(0,1)\n",
    "qc_param.t(1)\n",
    "qc_param.cx(1,2)\n",
    "qc_param.tdg(2)\n",
    "qc_param.cx(0,2)\n",
    "qc_param.t(2)\n",
    "qc_param.cx(1,2)\n",
    "qc_param.u(theta2, phi2, lam2, 2)\n",
    "qc_param.cx(0,2)\n",
    "qc_param.t(2)\n",
    "qc_param.h(2)\n",
    "\n",
    "print(\" Parameterized Circuit:\")\n",
    "print(qc_param.draw(output='text'))"
   ]
  },
  {
   "cell_type": "markdown",
   "id": "f3e8bc23",
   "metadata": {},
   "source": [
    "## Defining the Cost Function\n",
    "\n",
    "Function that measures how different our parameterized circuit is from the true Toffoli gate.  \n",
    "The cost will be minimized by adjusting the parameters."
   ]
  },
  {
   "cell_type": "code",
   "execution_count": 10,
   "id": "6a96039e",
   "metadata": {},
   "outputs": [],
   "source": [
    "# ------------------------------------------------------------\n",
    "# Cost function: difference between current circuit and Toffoli\n",
    "# ------------------------------------------------------------\n",
    "def cost(params):\n",
    "    \"\"\"Compute the distance between the parameterized circuit\n",
    "    and the Toffoli gate (Frobenius norm).\"\"\"\n",
    "    \n",
    "    param_dict = {\n",
    "        theta1: params[0], phi1: params[1], lam1: params[2],\n",
    "        theta2: params[3], phi2: params[4], lam2: params[5]\n",
    "    }\n",
    "\n",
    "    qc_bound = qc_param.assign_parameters(param_dict)\n",
    "    U_current = Operator(qc_bound).data\n",
    "\n",
    "    diff = U_current - U_toffoli\n",
    "    return np.linalg.norm(diff)"
   ]
  },
  {
   "cell_type": "markdown",
   "id": "4d2bec40",
   "metadata": {},
   "source": [
    "## Run the Optimization\n",
    "\n",
    "We start with random initial values for all six parameters and use **Powell's optimization method** to minimize the cost function."
   ]
  },
  {
   "cell_type": "code",
   "execution_count": 11,
   "id": "9e1a027e",
   "metadata": {},
   "outputs": [
    {
     "name": "stdout",
     "output_type": "stream",
     "text": [
      "Initial parameters: [0.19780121 5.66901918 0.61596871 4.76536184 0.78043257 6.00341868]\n",
      "Initial cost: 4.27922039922046\n",
      "Optimization complete\n",
      "Optimized parameters: [-4.71238898  6.28318531  3.14159265  6.28318531 -0.43669634  5.93448349]\n",
      "Final cost: 5.496545205106476e-12\n",
      "Rounded parameters (in multiples of π): [-1.5    2.     1.     2.    -0.139  1.889] * π\n",
      "Optimization complete\n",
      "Optimized parameters: [-4.71238898  6.28318531  3.14159265  6.28318531 -0.43669634  5.93448349]\n",
      "Final cost: 5.496545205106476e-12\n",
      "Rounded parameters (in multiples of π): [-1.5    2.     1.     2.    -0.139  1.889] * π\n"
     ]
    }
   ],
   "source": [
    "# ------------------------------------------------------------\n",
    "# Optimization routine\n",
    "# ------------------------------------------------------------\n",
    "initial_params = np.random.rand(6) * 2 * np.pi\n",
    "\n",
    "print(f\"Initial parameters: {initial_params}\")\n",
    "print(f\"Initial cost: {cost(initial_params)}\")\n",
    "\n",
    "# Running optimization\n",
    "result = minimize(cost, initial_params, method='powell', tol=1e-6)\n",
    "\n",
    "optimized_params = result.x\n",
    "final_cost = result.fun\n",
    "\n",
    "print(\"Optimization complete\")\n",
    "print(f\"Optimized parameters: {optimized_params}\")\n",
    "print(f\"Final cost: {final_cost}\")\n",
    "\n",
    "# Rounding parameters for readability\n",
    "rounded_params = np.round(optimized_params / pi, 4) * pi\n",
    "print(f\"Rounded parameters (in multiples of π): {rounded_params/pi} * π\")"
   ]
  },
  {
   "cell_type": "code",
   "execution_count": 12,
   "id": "24a063ee",
   "metadata": {},
   "outputs": [
    {
     "name": "stdout",
     "output_type": "stream",
     "text": [
      "Final circuit matrix:\n",
      "[[ 1.+0.j  0.+0.j  0.+0.j  0.+0.j -0.-0.j  0.+0.j  0.+0.j  0.+0.j]\n",
      " [ 0.+0.j  1.+0.j  0.+0.j  0.+0.j  0.+0.j -0.+0.j  0.+0.j  0.+0.j]\n",
      " [ 0.+0.j  0.+0.j  1.+0.j  0.+0.j  0.+0.j  0.+0.j -0.-0.j  0.+0.j]\n",
      " [ 0.+0.j  0.+0.j  0.+0.j  0.+0.j  0.+0.j  0.+0.j  0.+0.j  1.+0.j]\n",
      " [ 0.-0.j  0.+0.j  0.+0.j  0.+0.j  1.+0.j  0.+0.j  0.+0.j  0.+0.j]\n",
      " [ 0.+0.j  0.+0.j  0.+0.j  0.+0.j  0.+0.j  1.+0.j  0.+0.j  0.+0.j]\n",
      " [ 0.+0.j  0.+0.j  0.-0.j  0.+0.j  0.+0.j  0.+0.j  1.+0.j  0.+0.j]\n",
      " [ 0.+0.j  0.+0.j  0.+0.j  1.+0.j  0.+0.j  0.+0.j  0.+0.j -0.+0.j]]\n",
      "Toffoli matrix:\n",
      "[[1.+0.j 0.+0.j 0.+0.j 0.+0.j 0.+0.j 0.+0.j 0.+0.j 0.+0.j]\n",
      " [0.+0.j 1.+0.j 0.+0.j 0.+0.j 0.+0.j 0.+0.j 0.+0.j 0.+0.j]\n",
      " [0.+0.j 0.+0.j 1.+0.j 0.+0.j 0.+0.j 0.+0.j 0.+0.j 0.+0.j]\n",
      " [0.+0.j 0.+0.j 0.+0.j 0.+0.j 0.+0.j 0.+0.j 0.+0.j 1.+0.j]\n",
      " [0.+0.j 0.+0.j 0.+0.j 0.+0.j 1.+0.j 0.+0.j 0.+0.j 0.+0.j]\n",
      " [0.+0.j 0.+0.j 0.+0.j 0.+0.j 0.+0.j 1.+0.j 0.+0.j 0.+0.j]\n",
      " [0.+0.j 0.+0.j 0.+0.j 0.+0.j 0.+0.j 0.+0.j 1.+0.j 0.+0.j]\n",
      " [0.+0.j 0.+0.j 0.+0.j 1.+0.j 0.+0.j 0.+0.j 0.+0.j 0.+0.j]]\n",
      "Equivalent matrices? True\n"
     ]
    }
   ],
   "source": [
    "# ------------------------------------------------------------\n",
    "# Constructing and verify the final circuit\n",
    "# ------------------------------------------------------------\n",
    "final_param_dict = {\n",
    "    theta1: optimized_params[0], phi1: optimized_params[1], lam1: optimized_params[2],\n",
    "    theta2: optimized_params[3], phi2: optimized_params[4], lam2: optimized_params[5]\n",
    "}\n",
    "\n",
    "qc_final = qc_param.assign_parameters(final_param_dict)\n",
    "U_final = Operator(qc_final).data\n",
    "\n",
    "print(\"Final circuit matrix:\")\n",
    "print(np.round(U_final, 4))\n",
    "\n",
    "print(\"Toffoli matrix:\")\n",
    "print(np.round(U_toffoli, 4))\n",
    "\n",
    "# Verify equivalence\n",
    "equal_matrices = np.allclose(U_final, U_toffoli, atol=1e-5)\n",
    "print(f\"Equivalent matrices? {equal_matrices}\")"
   ]
  },
  {
   "cell_type": "markdown",
   "id": "f7b85457",
   "metadata": {},
   "source": [
    "## Conclusion\n",
    "\n",
    "Successfully optimized the parameters of a **U3-based circuit** to reproduce the **Toffoli gate**.\n",
    "\n",
    "This demonstrates the concept of **circuit equivalence**: that a universal gate set (like U3, T, T' and CNOT) can represent any unitary operation.\n",
    "\n",
    "**Key takeaways:**\n",
    "- The optimization converges to parameters close to multiples of π.\n",
    "- The final matrix matches the Toffoli gate.\n",
    "- This approach can be extended to other multi-qubit gates.\n",
    "\n",
    "**Final Conclusion**: This project successfully establishes the foundations of quantum gate tomography, demonstrating both theoretically and computationally the universality of specific quantum gate sets. \n",
    "\n",
    "**The precise parameter values obtained from optimization are:**\n",
    "\n",
    "**First U3 Gate:**\n",
    "- θ₁ = 1.5π \n",
    "- φ₁ = 2π  \n",
    "- λ₁ = 1.0π \n",
    "\n",
    "**Second U3 Gate:**\n",
    "- θ₂ = 2.0π \n",
    "- φ₂ = 0.139π \n",
    "- λ₂ = 1.89π \n",
    "\n",
    "These represent the exact mathematical solution for Toffoli gate decomposition using elementary quantum operations with a final cost of **5.496545e-12** (convergence achieved)."
   ]
  }
 ],
 "metadata": {
  "kernelspec": {
   "display_name": ".venv",
   "language": "python",
   "name": "python3"
  },
  "language_info": {
   "codemirror_mode": {
    "name": "ipython",
    "version": 3
   },
   "file_extension": ".py",
   "mimetype": "text/x-python",
   "name": "python",
   "nbconvert_exporter": "python",
   "pygments_lexer": "ipython3",
   "version": "3.13.7"
  }
 },
 "nbformat": 4,
 "nbformat_minor": 5
}
